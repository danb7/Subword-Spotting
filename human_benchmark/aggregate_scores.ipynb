{
 "cells": [
  {
   "cell_type": "code",
   "execution_count": 2,
   "metadata": {},
   "outputs": [],
   "source": [
    "import pandas as pd"
   ]
  },
  {
   "cell_type": "markdown",
   "metadata": {},
   "source": [
    "# Multi-choice human benchmark"
   ]
  },
  {
   "cell_type": "code",
   "execution_count": null,
   "metadata": {},
   "outputs": [],
   "source": [
    "def get_human_benchmark(type='multi')\n",
    "    '''\n",
    "    type: multi or classification\n",
    "\n",
    "    returns: accuracy of humen and number of responses\n",
    "    '''\n",
    "    if type=='multi':\n",
    "        scores_df = pd.read_excel(r'.\\Subword-Spotting quiz (Responses).xlsx', sheet_name=None)\n",
    "    elif type=='classification':\n",
    "        scores_df = pd.read_excel(r'.\\Subwords-Spotting classification quiz (Responses).xlsx', sheet_name=None) \n",
    "    else:\n",
    "        raise Exception('type need to be multi or classification')\n",
    "    \n",
    "    all_scores = pd.Series(dtype='int')\n",
    "    for form_name, form_df in scores_df.items():\n",
    "        all_scores = pd.concat([all_scores, form_df['Score']])\n",
    "        print(f'{form_name} mean score: {form_df[\"Score\"].mean()},', f'responses: {len(form_df[\"Score\"])}')\n",
    "    print(f'\\nTotal mean score: {all_scores.mean()},', f'Total responses: {len(all_scores)}')\n",
    "    return all_scores.mean(), len(all_scores) "
   ]
  },
  {
   "cell_type": "code",
   "execution_count": 2,
   "metadata": {},
   "outputs": [],
   "source": [
    "scores_df = pd.read_excel(r'.\\Subword-Spotting quiz (Responses).xlsx', sheet_name=None)"
   ]
  },
  {
   "cell_type": "code",
   "execution_count": 3,
   "metadata": {},
   "outputs": [
    {
     "name": "stdout",
     "output_type": "stream",
     "text": [
      "Form Responses 6 mean score: 95.0, responses: 6\n",
      "Form Responses 5 mean score: 98.0, responses: 5\n",
      "Form Responses 4 mean score: 92.5, responses: 4\n",
      "Form Responses 3 mean score: 96.66666666666667, responses: 3\n",
      "Form Responses 2 mean score: 100.0, responses: 6\n",
      "Form Responses 1 mean score: 98.75, responses: 8\n",
      "\n",
      "Total mean score: 97.1875, Total responses: 32\n"
     ]
    }
   ],
   "source": [
    "all_scores = pd.Series(dtype='int')\n",
    "for form_name, form_df in scores_df.items():\n",
    "    all_scores = pd.concat([all_scores, form_df['Score']])\n",
    "    print(f'{form_name} mean score: {form_df[\"Score\"].mean()},', f'responses: {len(form_df[\"Score\"])}')\n",
    "print(f'\\nTotal mean score: {all_scores.mean()},', f'Total responses: {len(all_scores)}')"
   ]
  },
  {
   "cell_type": "markdown",
   "metadata": {},
   "source": [
    "# Yes/No quetions human benchmark"
   ]
  },
  {
   "cell_type": "code",
   "execution_count": 3,
   "metadata": {},
   "outputs": [],
   "source": [
    "scores_df = pd.read_excel(r'.\\Subwords-Spotting classification quiz (Responses).xlsx', sheet_name=None)"
   ]
  },
  {
   "cell_type": "code",
   "execution_count": 4,
   "metadata": {},
   "outputs": [
    {
     "name": "stdout",
     "output_type": "stream",
     "text": [
      "Form responses 12 mean score: 90.0, responses: 2\n",
      "Form responses 11 mean score: 100.0, responses: 1\n",
      "Form responses 10 mean score: 100.0, responses: 2\n",
      "Form responses 9 mean score: 90.0, responses: 1\n",
      "Form responses 8 mean score: 100.0, responses: 1\n",
      "Form responses 7 mean score: 98.0, responses: 5\n",
      "Form responses 6 mean score: 100.0, responses: 2\n",
      "Form responses 5 mean score: 100.0, responses: 1\n",
      "Form responses 4 mean score: 95.0, responses: 2\n",
      "Form responses 3 mean score: 95.0, responses: 2\n",
      "Form responses 2 mean score: 100.0, responses: 1\n",
      "Form responses 1 mean score: 95.0, responses: 2\n",
      "\n",
      "Total mean score: 96.81818181818181, Total responses: 22\n"
     ]
    }
   ],
   "source": [
    "all_scores = pd.Series(dtype='int')\n",
    "for form_name, form_df in scores_df.items():\n",
    "    all_scores = pd.concat([all_scores, form_df['Score']])\n",
    "    print(f'{form_name} mean score: {form_df[\"Score\"].mean()},', f'responses: {len(form_df[\"Score\"])}')\n",
    "print(f'\\nTotal mean score: {all_scores.mean()},', f'Total responses: {len(all_scores)}')"
   ]
  }
 ],
 "metadata": {
  "kernelspec": {
   "display_name": "base",
   "language": "python",
   "name": "python3"
  },
  "language_info": {
   "codemirror_mode": {
    "name": "ipython",
    "version": 3
   },
   "file_extension": ".py",
   "mimetype": "text/x-python",
   "name": "python",
   "nbconvert_exporter": "python",
   "pygments_lexer": "ipython3",
   "version": "3.9.13"
  }
 },
 "nbformat": 4,
 "nbformat_minor": 2
}
