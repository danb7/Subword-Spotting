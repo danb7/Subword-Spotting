{
 "cells": [
  {
   "cell_type": "code",
   "execution_count": 1,
   "metadata": {},
   "outputs": [],
   "source": [
    "import pandas as pd"
   ]
  },
  {
   "cell_type": "markdown",
   "metadata": {},
   "source": [
    "# Multi-choice human benchmark"
   ]
  },
  {
   "cell_type": "code",
   "execution_count": 2,
   "metadata": {},
   "outputs": [],
   "source": [
    "scores_df = pd.read_excel(r'.\\Subword-Spotting quiz (Responses).xlsx', sheet_name=None)"
   ]
  },
  {
   "cell_type": "code",
   "execution_count": 3,
   "metadata": {},
   "outputs": [
    {
     "name": "stdout",
     "output_type": "stream",
     "text": [
      "Form Responses 6 mean score: 95.0, responses: 6\n",
      "Form Responses 5 mean score: 98.0, responses: 5\n",
      "Form Responses 4 mean score: 92.5, responses: 4\n",
      "Form Responses 3 mean score: 96.66666666666667, responses: 3\n",
      "Form Responses 2 mean score: 100.0, responses: 6\n",
      "Form Responses 1 mean score: 98.75, responses: 8\n",
      "\n",
      "Total mean score: 97.1875, Total responses: 32\n"
     ]
    }
   ],
   "source": [
    "all_scores = pd.Series(dtype='int')\n",
    "for form_name, form_df in scores_df.items():\n",
    "    all_scores = pd.concat([all_scores, form_df['Score']])\n",
    "    print(f'{form_name} mean score: {form_df[\"Score\"].mean()},', f'responses: {len(form_df[\"Score\"])}')\n",
    "print(f'\\nTotal mean score: {all_scores.mean()},', f'Total responses: {len(all_scores)}')"
   ]
  },
  {
   "cell_type": "markdown",
   "metadata": {},
   "source": [
    "# Yes/No quetions human benchmark"
   ]
  },
  {
   "cell_type": "markdown",
   "metadata": {},
   "source": []
  }
 ],
 "metadata": {
  "kernelspec": {
   "display_name": "base",
   "language": "python",
   "name": "python3"
  },
  "language_info": {
   "codemirror_mode": {
    "name": "ipython",
    "version": 3
   },
   "file_extension": ".py",
   "mimetype": "text/x-python",
   "name": "python",
   "nbconvert_exporter": "python",
   "pygments_lexer": "ipython3",
   "version": "3.9.13"
  }
 },
 "nbformat": 4,
 "nbformat_minor": 2
}
