{
 "cells": [
  {
   "cell_type": "code",
   "execution_count": 1,
   "metadata": {},
   "outputs": [],
   "source": [
    "%load_ext autoreload\n",
    "%autoreload 2"
   ]
  },
  {
   "cell_type": "code",
   "execution_count": 2,
   "metadata": {},
   "outputs": [],
   "source": [
    "from subword_prompt_templates import MultiChoicePrompts, ClassificationPrompts"
   ]
  },
  {
   "cell_type": "code",
   "execution_count": 3,
   "metadata": {},
   "outputs": [
    {
     "name": "stdout",
     "output_type": "stream",
     "text": [
      "### example question 1 ###\n",
      "Q: which one of the following words contains a subword of an animal?\n",
      "a. million\n",
      "b. book\n",
      "c. printer\n",
      "d. guitar\n",
      "A: million\n",
      "\n",
      "### example question 2 ###\n",
      "Q: which one of the following words contains a subword of an animal?\n",
      "a. pasta\n",
      "b. pants\n",
      "c. glass\n",
      "d. house\n",
      "A: pants\n",
      "\n",
      "### example question 3 ###\n",
      "Q: which one of the following words contains a subword of an animal?\n",
      "a. camera\n",
      "b. milk\n",
      "c. beer\n",
      "d. envelope\n",
      "A: beer\n",
      "\n",
      "### example question 4 ###\n",
      "Q: which one of the following words contains a subword of an animal?\n",
      "a. shoes\n",
      "b. clock\n",
      "c. mirror\n",
      "d. scatter\n",
      "A: scatter\n",
      "\n",
      "### actual question ###\n",
      "Q: which one of the following words contains a subword of an animal?\n",
      "a. a\n",
      "b. b\n",
      "c. c\n",
      "d. d\n",
      "A: \n"
     ]
    }
   ],
   "source": [
    "print(MultiChoicePrompts.generate_few_shot(category='animal',\n",
    "                                            choice1='a', \n",
    "                                            choice2='b', \n",
    "                                            choice3='c', \n",
    "                                            choice4='d'))"
   ]
  },
  {
   "cell_type": "code",
   "execution_count": 4,
   "metadata": {},
   "outputs": [
    {
     "name": "stdout",
     "output_type": "stream",
     "text": [
      "### example question 1 ###\n",
      "Q: Does the word credit contains a subword of a color?\n",
      "A: Yes\n",
      "\n",
      "### example question 2 ###\n",
      "Q: Does the word house contains a subword of a color?\n",
      "A: No\n",
      "\n",
      "### example question 3 ###\n",
      "Q: Does the word abluent contains a subword of a color?\n",
      "A: Yes\n",
      "\n",
      "### example question 4 ###\n",
      "Q: Does the word lamp contains a subword of a color?\n",
      "A: No\n",
      "\n",
      "### actual question ###\n",
      "Q: Does the word a contains a subword of a color?\n",
      "A: \n"
     ]
    }
   ],
   "source": [
    "print(ClassificationPrompts.generate_few_shot(category='color', word='a'))"
   ]
  },
  {
   "cell_type": "code",
   "execution_count": null,
   "metadata": {},
   "outputs": [],
   "source": [
    "from openai import OpenAI\n",
    "import os\n",
    "\n",
    "os.environ['TOGETHER_API_KEY'] = 'bf917c4afd545fdc63dbc3a62129880c51b441895bcbaf685dcf2792e77e9801'\n",
    "TOGETHER_API_KEY = os.environ.get(\"TOGETHER_API_KEY\")\n",
    "\n",
    "client = OpenAI(\n",
    "  api_key=TOGETHER_API_KEY,\n",
    "  base_url='https://api.together.xyz/v1',\n",
    ")\n",
    "\n",
    "chat_completion = client.chat.completions.create(\n",
    "  messages=[\n",
    "    {\n",
    "      \"role\": \"system\",\n",
    "      \"content\": \"You are an expert travel guide.\",\n",
    "    },\n",
    "    {\n",
    "      \"role\": \"user\",\n",
    "      \"content\": \"Tell me fun things to do in San Francisco.\",\n",
    "    }\n",
    "  ],\n",
    "  model=\"mistralai/Mixtral-8x7B-Instruct-v0.1\"\n",
    ")\n",
    "\n",
    "print(chat_completion.choices[0].message.content)"
   ]
  },
  {
   "cell_type": "code",
   "execution_count": null,
   "metadata": {},
   "outputs": [],
   "source": []
  }
 ],
 "metadata": {
  "kernelspec": {
   "display_name": "base",
   "language": "python",
   "name": "python3"
  },
  "language_info": {
   "codemirror_mode": {
    "name": "ipython",
    "version": 3
   },
   "file_extension": ".py",
   "mimetype": "text/x-python",
   "name": "python",
   "nbconvert_exporter": "python",
   "pygments_lexer": "ipython3",
   "version": "3.9.13"
  }
 },
 "nbformat": 4,
 "nbformat_minor": 2
}
