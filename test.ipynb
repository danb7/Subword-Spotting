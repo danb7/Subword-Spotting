{
 "cells": [
  {
   "cell_type": "code",
   "execution_count": 12,
   "metadata": {},
   "outputs": [
    {
     "name": "stdout",
     "output_type": "stream",
     "text": [
      "The autoreload extension is already loaded. To reload it, use:\n",
      "  %reload_ext autoreload\n"
     ]
    }
   ],
   "source": [
    "%load_ext autoreload\n",
    "%autoreload 2"
   ]
  },
  {
   "cell_type": "code",
   "execution_count": 13,
   "metadata": {},
   "outputs": [],
   "source": [
    "from subword_prompt_templates.MultiChoicePrompts import MultiChoicePrompts\n",
    "from subword_prompt_templates.ClassificationPrompts import ClassificationPrompts"
   ]
  },
  {
   "cell_type": "code",
   "execution_count": 19,
   "metadata": {},
   "outputs": [
    {
     "name": "stdout",
     "output_type": "stream",
     "text": [
      "Read the question below and understand what the question is asking for and the criteria for selecting the correct answer. \n",
      "Examine each word provided in the options carefully and Break down each word into its component parts or subwords.\n",
      "Determine if any of the subwords within each word match the name of an animal. \n",
      "Choose the word that contains a subword of an animal according to the criteria given in the question.\n",
      "Verify your answer, double-check your selection to ensure it meets all the requirements specified in the question.\n",
      "start your answer with the correct letter and the correspond word. In case of doubt, answer according to the most probable answer.\n",
      "Subword is a standalone word that exists within a longer word that contains it, and its meaning is arbitrary from the longer word one's.\n",
      "Question: Which one of the following words contains a subword of an animal?\n",
      "    A. tulip\n",
      "    B. puzzle\n",
      "    C. knowledge\n",
      "    D. dice\n",
      "Answer: [Your answer here, just the correspond letter and the word, without any explanation or additional text]\n"
     ]
    }
   ],
   "source": [
    "mcp = MultiChoicePrompts()\n",
    "print(mcp.generate(technique='decomposite', category='animal',\n",
    "                                            choice1='tulip', \n",
    "                                            choice2='puzzle', \n",
    "                                            choice3='knowledge', \n",
    "                                            choice4='dice',\n",
    "                                            # shot='few'\n",
    "                                            ))"
   ]
  },
  {
   "cell_type": "code",
   "execution_count": 16,
   "metadata": {},
   "outputs": [
    {
     "name": "stdout",
     "output_type": "stream",
     "text": [
      "Subword is a standalone word that exists within a longer word that contains it, and its meaning is arbitrary from the longer word one's.\n",
      "Question: Does the word \"a\" contains a subword of an animal?\n",
      "In your response, first Answer with \"Yes\" or \"No\". In case of doubt, answer according to the most probable answer.\n",
      "Answer: \n"
     ]
    }
   ],
   "source": [
    "ynp = ClassificationPrompts()\n",
    "print(ynp.generate(technique='zero_shot', category='animal', word='a'))"
   ]
  },
  {
   "cell_type": "code",
   "execution_count": 5,
   "metadata": {},
   "outputs": [
    {
     "name": "stdout",
     "output_type": "stream",
     "text": [
      " Absolutely, I'd be happy to help you discover some fun things to do in San Francisco! Here are a few suggestions:\n",
      "\n",
      "1. **Explore Golden Gate Park:** This urban park is larger than New York's Central Park and offers a variety of activities. You can visit the California Academy of Sciences, stroll through the Japanese Tea Garden, or rent a bike and ride around the park.\n",
      "\n",
      "2. **Ride a Cable Car:** San Francisco's cable car system is a National Historic Landmark. It's not only a fun way to get around, but also offers great views of the city.\n",
      "\n",
      "3. **Visit Fisherman's Wharf:** Here, you can see sea lions at Pier 39, visit the Aquarium of the Bay, or explore the various shops and restaurants. Don't forget to try some fresh seafood!\n",
      "\n",
      "4. **Explore the Mission District:** This vibrant neighborhood is known for its colorful murals, hip bars, and delicious Mexican food.\n",
      "\n",
      "5. **Hike in Muir Woods:** Just a short drive from the city, you can find yourself among some of the oldest and tallest trees in the world.\n",
      "\n",
      "6. **Visit Alcatraz:** Take a ferry to this infamous island and tour the former prison. Be sure to book your tickets in advance as they sell out quickly.\n",
      "\n",
      "7. **Stroll around the Ferry Building Marketplace:** This is a food lover's paradise with a wide variety of local food and artisan stalls.\n",
      "\n",
      "Remember, San Francisco is a city with many microclimates, so be prepared for changing weather throughout the day! Enjoy your visit!\n"
     ]
    }
   ],
   "source": [
    "from openai import OpenAI\n",
    "import os\n",
    "\n",
    "os.environ['TOGETHER_API_KEY'] = 'bf917c4afd545fdc63dbc3a62129880c51b441895bcbaf685dcf2792e77e9801'\n",
    "TOGETHER_API_KEY = os.environ.get(\"TOGETHER_API_KEY\")\n",
    "\n",
    "client = OpenAI(\n",
    "  api_key=TOGETHER_API_KEY,\n",
    "  base_url='https://api.together.xyz/v1',\n",
    ")\n",
    "\n",
    "chat_completion = client.chat.completions.create(\n",
    "  messages=[\n",
    "    {\n",
    "      \"role\": \"system\",\n",
    "      \"content\": \"You are an expert travel guide.\",\n",
    "    },\n",
    "    {\n",
    "      \"role\": \"user\",\n",
    "      \"content\": \"Tell me fun things to do in San Francisco.\",\n",
    "    }\n",
    "  ],\n",
    "  model=\"mistralai/Mixtral-8x7B-Instruct-v0.1\"\n",
    ")\n",
    "\n",
    "print(chat_completion.choices[0].message.content)"
   ]
  },
  {
   "cell_type": "code",
   "execution_count": 11,
   "metadata": {},
   "outputs": [
    {
     "name": "stdout",
     "output_type": "stream",
     "text": [
      "Subword is a standalone word that exists within a longer word that contains it, and its meaning is arbitrary from the longer word one's.\n",
      "Question: Which one of the following words contains a subword of an animal?\n",
      "    A. tulip\n",
      "    B. puzzle\n",
      "    C. knowledge\n",
      "    D. dice\n",
      "In your response, first provide the correct letter and the correspond word.\n",
      "Answer: \n"
     ]
    }
   ],
   "source": [
    "question='''Subword is a standalone word that exists within a longer word that contains it, and its meaning is arbitrary from the longer word one's.\n",
    "Question: Which one of the following words contains a subword of an animal?\n",
    "    A. tulip\n",
    "    B. puzzle\n",
    "    C. knowledge\n",
    "    D. dice\n",
    "Answer: '''\n",
    "\n",
    "sentence = 'In your response, first provide the correct letter and the correspond word.'\n",
    "\n",
    "last_index = question.rfind('Answer')\n",
    "result = question[:last_index] + sentence + '\\n' + question[last_index:]\n",
    "print(result)"
   ]
  },
  {
   "cell_type": "code",
   "execution_count": null,
   "metadata": {},
   "outputs": [],
   "source": []
  }
 ],
 "metadata": {
  "kernelspec": {
   "display_name": "base",
   "language": "python",
   "name": "python3"
  },
  "language_info": {
   "codemirror_mode": {
    "name": "ipython",
    "version": 3
   },
   "file_extension": ".py",
   "mimetype": "text/x-python",
   "name": "python",
   "nbconvert_exporter": "python",
   "pygments_lexer": "ipython3",
   "version": "3.9.13"
  }
 },
 "nbformat": 4,
 "nbformat_minor": 2
}
