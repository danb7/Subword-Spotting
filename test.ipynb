{
 "cells": [
  {
   "cell_type": "code",
   "execution_count": 1,
   "metadata": {},
   "outputs": [],
   "source": [
    "%load_ext autoreload\n",
    "%autoreload 2"
   ]
  },
  {
   "cell_type": "code",
   "execution_count": 2,
   "metadata": {},
   "outputs": [],
   "source": [
    "from subword_prompt_templates.MultiChoicePrompts import MultiChoicePrompts\n",
    "from subword_prompt_templates.ClassificationPrompts import ClassificationPrompts"
   ]
  },
  {
   "cell_type": "code",
   "execution_count": 7,
   "metadata": {},
   "outputs": [
    {
     "name": "stdout",
     "output_type": "stream",
     "text": [
      "### example question 1 ###\n",
      "Subword is a standalone word that exists within a longer word that contains it, and its meaning is arbitrary from the longer word one's.\n",
      "Question: Which one of the following words contains a subword of an animal?\n",
      "    A. million\n",
      "    B. book\n",
      "    C. printer\n",
      "    D. guitar\n",
      "Answer: A. Since the word million contains the subword lion, which is an animal, the correct answer is A. million.\n",
      "\n",
      "### example question 2 ###\n",
      "Subword is a standalone word that exists within a longer word that contains it, and its meaning is arbitrary from the longer word one's.\n",
      "Question: Which one of the following words contains a subword of an animal?\n",
      "    A. pasta\n",
      "    B. pants\n",
      "    C. glass\n",
      "    D. house\n",
      "Answer: B. Since the word pants contains the subword ant, which is an animal, the correct answer is B. pants.\n",
      "\n",
      "### example question 3 ###\n",
      "Subword is a standalone word that exists within a longer word that contains it, and its meaning is arbitrary from the longer word one's.\n",
      "Question: Which one of the following words contains a subword of an animal?\n",
      "    A. camera\n",
      "    B. milk\n",
      "    C. health\n",
      "    D. envelope\n",
      "Answer: C. Since the word health contains the subword eal, which is an animal, the correct answer is C. health.\n",
      "\n",
      "### example question 4 ###\n",
      "Subword is a standalone word that exists within a longer word that contains it, and its meaning is arbitrary from the longer word one's.\n",
      "Question: Which one of the following words contains a subword of an animal?\n",
      "    A. shoes\n",
      "    B. clock\n",
      "    C. mirror\n",
      "    D. sealed\n",
      "Answer: D. Since the word sealed contains the subword seal, which is an animal, the correct answer is D. sealed.\n",
      "\n",
      "### actual question ###\n",
      "Subword is a standalone word that exists within a longer word that contains it, and its meaning is arbitrary from the longer word one's.\n",
      "Question: Which one of the following words contains a subword of an animal?\n",
      "    A. tulip\n",
      "    B. puzzle\n",
      "    C. knowledge\n",
      "    D. dice\n",
      "Answer: [Your answer here, just the correspond letter, without any explanation or additional text]\n"
     ]
    }
   ],
   "source": [
    "mcp = MultiChoicePrompts()\n",
    "print(mcp.generate(technique='cot', category='animal',\n",
    "                                            choice1='tulip', \n",
    "                                            choice2='puzzle', \n",
    "                                            choice3='knowledge', \n",
    "                                            choice4='dice',\n",
    "                                            shot='few'))"
   ]
  },
  {
   "cell_type": "code",
   "execution_count": 4,
   "metadata": {},
   "outputs": [
    {
     "name": "stdout",
     "output_type": "stream",
     "text": [
      "### example question 1 ###\n",
      "Subword is a standalone word that exists within a longer word that contains it, and its meaning is arbitrary from the longer word one's.\n",
      "Question: Does the word \"million\" contains a subword of an animal?\n",
      "Answer: Yes.\n",
      "\n",
      "### example question 2 ###\n",
      "Subword is a standalone word that exists within a longer word that contains it, and its meaning is arbitrary from the longer word one's.\n",
      "Question: Does the word \"book\" contains a subword of an animal?\n",
      "Answer: No.\n",
      "\n",
      "### example question 3 ###\n",
      "Subword is a standalone word that exists within a longer word that contains it, and its meaning is arbitrary from the longer word one's.\n",
      "Question: Does the word \"pants\" contains a subword of an animal?\n",
      "Answer: Yes.\n",
      "\n",
      "### example question 4 ###\n",
      "Subword is a standalone word that exists within a longer word that contains it, and its meaning is arbitrary from the longer word one's.\n",
      "Question: Does the word \"printer\" contains a subword of an animal?\n",
      "Answer: No.\n",
      "\n",
      "### actual question ###\n",
      "Subword is a standalone word that exists within a longer word that contains it, and its meaning is arbitrary from the longer word one's.\n",
      "Question: Does the word \"a\" contains a subword of an animal?\n",
      "Answer: [Your answer here, just Yes/No, without any explanation or additional text]\n"
     ]
    }
   ],
   "source": [
    "ynp = ClassificationPrompts()\n",
    "print(ynp.generate(technique='few_shot', category='animal', word='a'))"
   ]
  },
  {
   "cell_type": "code",
   "execution_count": 5,
   "metadata": {},
   "outputs": [
    {
     "name": "stdout",
     "output_type": "stream",
     "text": [
      " Absolutely, I'd be happy to help you discover some fun things to do in San Francisco! Here are a few suggestions:\n",
      "\n",
      "1. **Explore Golden Gate Park:** This urban park is larger than New York's Central Park and offers a variety of activities. You can visit the California Academy of Sciences, stroll through the Japanese Tea Garden, or rent a bike and ride around the park.\n",
      "\n",
      "2. **Ride a Cable Car:** San Francisco's cable car system is a National Historic Landmark. It's not only a fun way to get around, but also offers great views of the city.\n",
      "\n",
      "3. **Visit Fisherman's Wharf:** Here, you can see sea lions at Pier 39, visit the Aquarium of the Bay, or explore the various shops and restaurants. Don't forget to try some fresh seafood!\n",
      "\n",
      "4. **Explore the Mission District:** This vibrant neighborhood is known for its colorful murals, hip bars, and delicious Mexican food.\n",
      "\n",
      "5. **Hike in Muir Woods:** Just a short drive from the city, you can find yourself among some of the oldest and tallest trees in the world.\n",
      "\n",
      "6. **Visit Alcatraz:** Take a ferry to this infamous island and tour the former prison. Be sure to book your tickets in advance as they sell out quickly.\n",
      "\n",
      "7. **Stroll around the Ferry Building Marketplace:** This is a food lover's paradise with a wide variety of local food and artisan stalls.\n",
      "\n",
      "Remember, San Francisco is a city with many microclimates, so be prepared for changing weather throughout the day! Enjoy your visit!\n"
     ]
    }
   ],
   "source": [
    "from openai import OpenAI\n",
    "import os\n",
    "\n",
    "os.environ['TOGETHER_API_KEY'] = 'bf917c4afd545fdc63dbc3a62129880c51b441895bcbaf685dcf2792e77e9801'\n",
    "TOGETHER_API_KEY = os.environ.get(\"TOGETHER_API_KEY\")\n",
    "\n",
    "client = OpenAI(\n",
    "  api_key=TOGETHER_API_KEY,\n",
    "  base_url='https://api.together.xyz/v1',\n",
    ")\n",
    "\n",
    "chat_completion = client.chat.completions.create(\n",
    "  messages=[\n",
    "    {\n",
    "      \"role\": \"system\",\n",
    "      \"content\": \"You are an expert travel guide.\",\n",
    "    },\n",
    "    {\n",
    "      \"role\": \"user\",\n",
    "      \"content\": \"Tell me fun things to do in San Francisco.\",\n",
    "    }\n",
    "  ],\n",
    "  model=\"mistralai/Mixtral-8x7B-Instruct-v0.1\"\n",
    ")\n",
    "\n",
    "print(chat_completion.choices[0].message.content)"
   ]
  },
  {
   "cell_type": "code",
   "execution_count": null,
   "metadata": {},
   "outputs": [],
   "source": []
  }
 ],
 "metadata": {
  "kernelspec": {
   "display_name": "base",
   "language": "python",
   "name": "python3"
  },
  "language_info": {
   "codemirror_mode": {
    "name": "ipython",
    "version": 3
   },
   "file_extension": ".py",
   "mimetype": "text/x-python",
   "name": "python",
   "nbconvert_exporter": "python",
   "pygments_lexer": "ipython3",
   "version": "3.9.13"
  }
 },
 "nbformat": 4,
 "nbformat_minor": 2
}
