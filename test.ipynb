{
 "cells": [
  {
   "cell_type": "code",
   "execution_count": 21,
   "metadata": {},
   "outputs": [
    {
     "name": "stdout",
     "output_type": "stream",
     "text": [
      "The autoreload extension is already loaded. To reload it, use:\n",
      "  %reload_ext autoreload\n"
     ]
    }
   ],
   "source": [
    "%load_ext autoreload\n",
    "%autoreload 2"
   ]
  },
  {
   "cell_type": "code",
   "execution_count": 22,
   "metadata": {},
   "outputs": [],
   "source": [
    "from subword_prompt_templates import MultiChoicePrompts, ClassificationPrompts"
   ]
  },
  {
   "cell_type": "code",
   "execution_count": 23,
   "metadata": {},
   "outputs": [
    {
     "name": "stdout",
     "output_type": "stream",
     "text": [
      "Read the question below and understand what the question is asking for and the criteria for selecting the correct answer. \n",
      "Examine each word provided in the options carefully and Break down each word into its component parts or subwords.\n",
      "Determine if any of the subwords within each word match the name of an animal. \n",
      "Choose the word that contains a subword of an animal according to the criteria given in the question.\n",
      "Verify your answer, double-check your selection to ensure it meets all the requirements specified in the question.\n",
      "Q: which one of the following words contains a subword of an animal?\n",
      "a. guitar\n",
      "b. million\n",
      "c. pasta\n",
      "d. tube\n",
      "A: \n"
     ]
    }
   ],
   "source": [
    "print(MultiChoicePrompts.generate_decomposite(category='animal',\n",
    "                                            choice1='guitar', \n",
    "                                            choice2='million', \n",
    "                                            choice3='pasta', \n",
    "                                            choice4='tube'))"
   ]
  },
  {
   "cell_type": "code",
   "execution_count": 24,
   "metadata": {},
   "outputs": [
    {
     "name": "stdout",
     "output_type": "stream",
     "text": [
      "### example question 1 ###\n",
      "Q: Does the word credit contains a subword of a color?\n",
      "A: Since the word contains a subword of a color, the correct answer is Yes.\n",
      "### example question 2 ###\n",
      "Q: Does the word house contains a subword of a color?\n",
      "A: Since the word doesnt contains any subword of a color, the correct answer is No.\n",
      "### example question 3 ###\n",
      "Q: Does the word abluent contains a subword of a color?\n",
      "A: Since the word contains a subword of a color, the correct answer is Yes.\n",
      "### example question 4 ###\n",
      "Q: Does the word lamp contains a subword of a color?\n",
      "A: Since the word doesnt contains any subword of a color, the correct answer is No.\n",
      "### actual question ###\n",
      "Q: Does the word million contains a subword of a color?\n",
      "A: \n"
     ]
    }
   ],
   "source": [
    "print(ClassificationPrompts.generate_CoT(category='color', word='million', shot='few'))"
   ]
  },
  {
   "cell_type": "code",
   "execution_count": 52,
   "metadata": {},
   "outputs": [
    {
     "name": "stdout",
     "output_type": "stream",
     "text": [
      "### example question 1 ###\n",
      "Q: Does the word million contains a subword of an animal?\n",
      "A: Since the word million contains the subword lion, which is an animal, the correct answer is Yes\n",
      "### example question 2 ###\n",
      "Q: Does the word book contains a subword of an animal?\n",
      "A: Since the word book doesnt contains any subword of an animal, the correct answer is No\n",
      "### example question 3 ###\n",
      "Q: Does the word pants contains a subword of an animal?\n",
      "A: Since the word pants contains the subword ant, which is an animal, the correct answer is Yes\n",
      "### example question 4 ###\n",
      "Q: Does the word printer contains a subword of an animal?\n",
      "A: Since the word printer doesnt contains any subword of an animal, the correct answer is No\n",
      "### actual question ###\n",
      "Q: Does the word asdf contains a subword of an animal?\n",
      "A: \n"
     ]
    }
   ],
   "source": [
    "print(ClassificationPrompts.generate_CoT(category='animal',\n",
    "                                        word='asdf',\n",
    "                                        shot='few'))"
   ]
  },
  {
   "cell_type": "code",
   "execution_count": null,
   "metadata": {},
   "outputs": [],
   "source": []
  }
 ],
 "metadata": {
  "kernelspec": {
   "display_name": "base",
   "language": "python",
   "name": "python3"
  },
  "language_info": {
   "codemirror_mode": {
    "name": "ipython",
    "version": 3
   },
   "file_extension": ".py",
   "mimetype": "text/x-python",
   "name": "python",
   "nbconvert_exporter": "python",
   "pygments_lexer": "ipython3",
   "version": "3.9.13"
  }
 },
 "nbformat": 4,
 "nbformat_minor": 2
}
